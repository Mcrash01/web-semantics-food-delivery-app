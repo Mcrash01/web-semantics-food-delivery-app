{
 "cells": [
  {
   "cell_type": "code",
   "execution_count": null,
   "metadata": {},
   "outputs": [],
   "source": [
    "from rdflib import Graph, URIRef, Literal\n",
    "import rdflib\n",
    "from rdflib import RDF\n",
    "\n",
    "ontology = \"food-delivery.owx\"\n",
    "# Load the ontology\n",
    "g = Graph()\n",
    "g.parse(ontology)\n",
    "\n",
    "namespaces = dict(g.namespaces())\n",
    "\n",
    "# Iterate over all instances of the class Person\n",
    "persons = g.subjects(predicate=RDF.type, object=URIRef(namespaces[':Person']))\n",
    "for person in persons:\n",
    "    print(\"Person:\", person)\n"
   ]
  },
  {
   "cell_type": "code",
   "execution_count": null,
   "metadata": {},
   "outputs": [],
   "source": [
    "from rdflib.plugins.sparql import prepareQuery\n",
    "\n",
    "# Load the ontology\n",
    "g = Graph()\n",
    "g.parse(ontology)\n",
    "\n",
    "# Load the SPARQL query from a file\n",
    "with open(\"query.txt\", \"r\") as f:\n",
    "    query_text = f.read()\n",
    "\n",
    "# Prepare and execute the query\n",
    "q = prepareQuery(query_text)\n",
    "results = g.query(q)\n",
    "\n",
    "# Iterate over the results and print them\n",
    "for row in results:\n",
    "    print(\"Person:\", row.person)\n",
    "\n"
   ]
  },
  {
   "cell_type": "code",
   "execution_count": null,
   "metadata": {},
   "outputs": [],
   "source": [
    "# Load the ontology\n",
    "g = Graph()\n",
    "g.parse(ontology)\n",
    "\n",
    "# List all instances of the class Restaurant serving Italian food\n",
    "restaurants = g.subjects(predicate=RDF.type, object=URIRef(\"your_namespace#Restaurant\"))\n",
    "for restaurant in restaurants:\n",
    "    if (restaurant, URIRef(\"your_namespace#servesFood\"), Literal(\"Italian\")) in g:\n",
    "        print(\"Restaurant:\", restaurant)\n"
   ]
  }
 ],
 "metadata": {
  "language_info": {
   "name": "python"
  }
 },
 "nbformat": 4,
 "nbformat_minor": 2
}
