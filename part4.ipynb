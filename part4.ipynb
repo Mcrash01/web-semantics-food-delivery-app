{
 "cells": [
  {
   "cell_type": "markdown",
   "metadata": {},
   "source": [
    "## 1. Loads the ontology and displays all the Persons (without using queries, without inference)."
   ]
  },
  {
   "cell_type": "code",
   "execution_count": 13,
   "metadata": {},
   "outputs": [
    {
     "name": "stdout",
     "output_type": "stream",
     "text": [
      "Person: http://www.semanticweb.org/martin/ontologies/2024/2/untitled-ontology-3#Rose\n",
      "Person: http://www.semanticweb.org/martin/ontologies/2024/2/untitled-ontology-3#Tom\n",
      "Person: http://www.semanticweb.org/martin/ontologies/2024/2/untitled-ontology-3#Violette\n"
     ]
    }
   ],
   "source": [
    "from rdflib import Graph, URIRef\n",
    "from rdflib.namespace import RDF\n",
    "\n",
    "ontology = \"test.rdf\"\n",
    "\n",
    "g = Graph()\n",
    "g.parse(ontology)\n",
    "\n",
    "persons = g.subjects(predicate=RDF.type, object=URIRef(\"http://www.semanticweb.org/martin/ontologies/2024/2/untitled-ontology-3#Customer\"))\n",
    "for person in persons:\n",
    "    print(\"Person:\", person)\n"
   ]
  },
  {
   "cell_type": "markdown",
   "metadata": {},
   "source": [
    "## 2. Loads the ontology and displays all the Persons (using a query, without inference). Create the used query in text file under the data folder."
   ]
  },
  {
   "cell_type": "code",
   "execution_count": 15,
   "metadata": {},
   "outputs": [
    {
     "name": "stdout",
     "output_type": "stream",
     "text": [
      "Person: http://www.semanticweb.org/martin/ontologies/2024/2/untitled-ontology-3#Rose\n",
      "Person: http://www.semanticweb.org/martin/ontologies/2024/2/untitled-ontology-3#Tom\n",
      "Person: http://www.semanticweb.org/martin/ontologies/2024/2/untitled-ontology-3#Violette\n"
     ]
    }
   ],
   "source": [
    "from rdflib.plugins.sparql import prepareQuery\n",
    "\n",
    "g = Graph()\n",
    "g.parse(ontology)\n",
    "\n",
    "with open(\"query.txt\", \"r\") as f:\n",
    "    query_text = f.read()\n",
    "\n",
    "q = prepareQuery(query_text)\n",
    "results = g.query(q)\n",
    "\n",
    "for row in results:\n",
    "    print(\"Person:\", row.person)\n",
    "\n"
   ]
  },
  {
   "cell_type": "markdown",
   "metadata": {},
   "source": [
    "## 3. Loads the ontology and displays all the Restaurants serving Italian food (without using queries, using inference)."
   ]
  },
  {
   "cell_type": "code",
   "execution_count": 18,
   "metadata": {},
   "outputs": [],
   "source": [
    "# Load the ontology\n",
    "g = Graph()\n",
    "g.parse(ontology)\n",
    "\n",
    "# List all instances of the class Restaurant serving Italian food\n",
    "restaurants = g.subjects(predicate=RDF.type, object=URIRef(\"http://www.semanticweb.org/martin/ontologies/2024/2/untitled-ontology-3#Restaurant\"))\n",
    "for restaurant in restaurants:\n",
    "    if (restaurant, URIRef(\"http://www.semanticweb.org/martin/ontologies/2024/2/untitled-ontology-3#servesFood\"), Literal(\"Italian\")) in g:\n",
    "        print(\"Restaurant:\", restaurant)\n"
   ]
  }
 ],
 "metadata": {
  "kernelspec": {
   "display_name": "Python 3",
   "language": "python",
   "name": "python3"
  },
  "language_info": {
   "codemirror_mode": {
    "name": "ipython",
    "version": 3
   },
   "file_extension": ".py",
   "mimetype": "text/x-python",
   "name": "python",
   "nbconvert_exporter": "python",
   "pygments_lexer": "ipython3",
   "version": "3.12.1"
  }
 },
 "nbformat": 4,
 "nbformat_minor": 2
}
