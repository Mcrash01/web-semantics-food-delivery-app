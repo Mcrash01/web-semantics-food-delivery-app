{
 "cells": [
  {
   "cell_type": "code",
   "execution_count": 9,
   "metadata": {},
   "outputs": [],
   "source": [
    "import json\n",
    "\n",
    "def generate_jsonld(json_data, json_schema):\n",
    "    # Load JSON schema\n",
    "    with open(json_schema, 'r') as f_schema:\n",
    "        schema = json.load(f_schema)\n",
    "    \n",
    "    # Prepare context from schema\n",
    "    context = {\n",
    "        \"@context\": {\n",
    "            \"schema\": \"http://schema.org/\"\n",
    "        }\n",
    "    }\n",
    "    for prop, value in schema[\"items\"][\"properties\"].items():\n",
    "        if prop == \"text\":\n",
    "            for lang_prop in value[\"properties\"]:\n",
    "                context[\"@context\"][lang_prop] = \"schema:\" + lang_prop\n",
    "        else:\n",
    "            context[\"@context\"][prop] = \"schema:\" + prop\n",
    "\n",
    "    # Prepare JSON-LD graph\n",
    "    graph = {\"@graph\": []}\n",
    "    for item in json_data:\n",
    "        entity = {\"@type\": \"schema:LocalBusiness\"}\n",
    "        for prop, value in item.items():\n",
    "            if prop == \"text\":\n",
    "                entity[prop] = {lang: value[lang] for lang in value}\n",
    "            else:\n",
    "                entity[prop] = value\n",
    "        graph[\"@graph\"].append(entity)\n",
    "\n",
    "    # Combine context and graph\n",
    "    jsonld = {**context, **graph}\n",
    "    return jsonld\n",
    "\n",
    "def main():\n",
    "    json_data_file = \"coopcycle.json\"\n",
    "    json_schema_file = \"coopcycle_schema.json\"\n",
    "    output_jsonld_file = \"coopcycle.jsonld\"\n",
    "\n",
    "    # Load JSON data\n",
    "    with open(json_data_file, 'r') as f_data:\n",
    "        json_data = json.load(f_data)\n",
    "\n",
    "    # Generate JSON-LD\n",
    "    jsonld = generate_jsonld(json_data, json_schema_file)\n",
    "\n",
    "    # Write JSON-LD to file\n",
    "    with open(output_jsonld_file, 'w') as f_jsonld:\n",
    "        json.dump(jsonld, f_jsonld, indent=4)\n",
    "\n",
    "if __name__ == \"__main__\":\n",
    "    main()\n"
   ]
  }
 ],
 "metadata": {
  "kernelspec": {
   "display_name": "Python 3",
   "language": "python",
   "name": "python3"
  },
  "language_info": {
   "codemirror_mode": {
    "name": "ipython",
    "version": 3
   },
   "file_extension": ".py",
   "mimetype": "text/x-python",
   "name": "python",
   "nbconvert_exporter": "python",
   "pygments_lexer": "ipython3",
   "version": "3.12.1"
  }
 },
 "nbformat": 4,
 "nbformat_minor": 2
}
