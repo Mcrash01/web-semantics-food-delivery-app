{
 "cells": [
  {
   "cell_type": "code",
   "execution_count": 1,
   "metadata": {},
   "outputs": [
    {
     "name": "stdout",
     "output_type": "stream",
     "text": [
      "[]\n"
     ]
    }
   ],
   "source": [
    "import requests\n",
    "from bs4 import BeautifulSoup\n",
    "import json\n",
    "\n",
    "def extract_jsonld(url):\n",
    "    # Fetch the HTML content of the URL\n",
    "    response = requests.get(url)\n",
    "    html_content = response.text\n",
    "\n",
    "    # Parse the HTML content\n",
    "    soup = BeautifulSoup(html_content, 'html.parser')\n",
    "\n",
    "    # Find all <script> tags with type=\"application/ld+json\"\n",
    "    jsonld_scripts = soup.find_all('script', type='application/ld+json')\n",
    "\n",
    "    # Extract and parse the JSON-LD data\n",
    "    jsonld_data = []\n",
    "    for script in jsonld_scripts:\n",
    "        try:\n",
    "            data = json.loads(script.string)\n",
    "            jsonld_data.append(data)\n",
    "        except json.JSONDecodeError as e:\n",
    "            print(f\"Error decoding JSON-LD: {e}\")\n",
    "\n",
    "    return jsonld_data\n",
    "\n",
    "# Example usage:\n",
    "url = \"https://beefast.coopcycle.org/fr/restaurant/21-robin-room\"\n",
    "jsonld_data = extract_jsonld(url)\n",
    "print(json.dumps(jsonld_data, indent=2))\n"
   ]
  }
 ],
 "metadata": {
  "kernelspec": {
   "display_name": "base",
   "language": "python",
   "name": "python3"
  },
  "language_info": {
   "codemirror_mode": {
    "name": "ipython",
    "version": 3
   },
   "file_extension": ".py",
   "mimetype": "text/x-python",
   "name": "python",
   "nbconvert_exporter": "python",
   "pygments_lexer": "ipython3",
   "version": "3.9.7"
  }
 },
 "nbformat": 4,
 "nbformat_minor": 2
}
